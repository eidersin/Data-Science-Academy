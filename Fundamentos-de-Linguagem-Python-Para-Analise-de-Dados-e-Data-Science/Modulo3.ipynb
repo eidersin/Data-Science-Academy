{
 "cells": [
  {
   "cell_type": "code",
   "execution_count": 11,
   "metadata": {},
   "outputs": [
    {
     "name": "stdout",
     "output_type": "stream",
     "text": [
      "A área do paralelograma é: 24.0cm2\n"
     ]
    }
   ],
   "source": [
    "# CALCULO ÁREA PARALELOGRAMA\n",
    "base = float(input('Declare o comprimento da base: '))\n",
    "altura = float(input('Declare a altura: '))\n",
    "area = base * altura\n",
    "\n",
    "print(f'A área do paralelograma é: {area}cm2')"
   ]
  },
  {
   "cell_type": "code",
   "execution_count": 39,
   "metadata": {},
   "outputs": [
    {
     "name": "stdout",
     "output_type": "stream",
     "text": [
      "Bem-vindo à Calculadora\n",
      "Valor invalido\n",
      "O resultado da operação 4.0 + 5.0 é: Operação inválida\n"
     ]
    }
   ],
   "source": [
    "# CALCULADORA SIMPLES\n",
    "print('Bem-vindo à Calculadora')\n",
    "def obter_numero(mensagem):\n",
    "    while True:\n",
    "        try:\n",
    "            return float(input(mensagem))\n",
    "        except ValueError:\n",
    "            print(\"Por favor, insira um número válido.\")\n",
    "\n",
    "numero1 = obter_numero('Insira o primeiro número: ')\n",
    "operacao = input('Selecione uma operação: (+, -, *, /)')\n",
    "numero2 = obter_numero('Insira o segundo número: ')\n",
    "\n",
    "resultado = (numero1 + numero2 if operacao == '+' else\n",
    "            numero1 - numero2 if operacao == '-' else\n",
    "            numero1 * numero2 if operacao == '*' else\n",
    "            numero1 / numero2 if operacao == '/' and numero2 != 0 else\n",
    "            'Erro: Divisão por zero' if operacao == '/' and numero2 == 0 else\n",
    "            'Operação inválida')\n",
    "\n",
    "if operacao in ['+', '-', '*', '/']:\n",
    "    print(f'O resultado da operação {numero1} {operacao} {numero2} é: {resultado}')\n",
    "else:\n",
    "    print('Operador inválido')\n",
    "\n",
    "\n"
   ]
  },
  {
   "cell_type": "code",
   "execution_count": 69,
   "metadata": {},
   "outputs": [
    {
     "name": "stdout",
     "output_type": "stream",
     "text": [
      "[2, 3, 5, 6, 8, 9, 10, 11, 21, 41, 46, 54, 69, 369]\n"
     ]
    }
   ],
   "source": [
    "# BUBBLE SORT - ORDENAÇÃO SIMPLES DE DADOS\n",
    "def bubble_sort(arr):\n",
    "    n = len(arr)\n",
    "    for i in range(n):\n",
    "        for j in range(0, n-i-1):\n",
    "            if arr[j] > arr[j+1]:\n",
    "                arr[j], arr[j+1] = arr[j+1], arr[j]\n",
    "    return arr \n",
    "\n",
    "lista = [5,6,8,9,10,54,69,21,11,369,41,2,46,3]\n",
    "print(bubble_sort(lista))"
   ]
  }
 ],
 "metadata": {
  "kernelspec": {
   "display_name": "Python 3",
   "language": "python",
   "name": "python3"
  },
  "language_info": {
   "codemirror_mode": {
    "name": "ipython",
    "version": 3
   },
   "file_extension": ".py",
   "mimetype": "text/x-python",
   "name": "python",
   "nbconvert_exporter": "python",
   "pygments_lexer": "ipython3",
   "version": "3.12.2"
  }
 },
 "nbformat": 4,
 "nbformat_minor": 2
}
